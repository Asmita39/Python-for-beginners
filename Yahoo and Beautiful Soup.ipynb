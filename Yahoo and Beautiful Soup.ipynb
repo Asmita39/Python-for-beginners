{
 "cells": [
  {
   "cell_type": "code",
   "execution_count": 18,
   "metadata": {},
   "outputs": [],
   "source": [
    "import urllib\n",
    "import urllib.request"
   ]
  },
  {
   "cell_type": "code",
   "execution_count": 19,
   "metadata": {
    "collapsed": true
   },
   "outputs": [],
   "source": [
    "from bs4 import BeautifulSoup as soup"
   ]
  },
  {
   "cell_type": "code",
   "execution_count": 30,
   "metadata": {},
   "outputs": [],
   "source": [
    "def get_historical_data(tickrname, number_of_days):\n",
    "    data = []\n",
    "    url = \"https://finance.yahoo.com/quote/\" + tickrname + \"/history/\"\n",
    "    rows = soup(urllib.request.urlopen(url).read()).findAll('table')[0].tbody.findAll('tr')\n",
    "\n",
    "    for each_row in rows:\n",
    "        divs = each_row.findAll('td')\n",
    "        if divs[1].span.text  != 'Dividend': #Ignore this row in the table\n",
    "            #I'm only interested in 'Open' price; For other values, play with divs[1 - 5]\n",
    "            data.append({'Date': divs[0].span.text, 'Open': float(divs[1].span.text.replace(',','')),'Close': float(divs[4].span.text.replace(',',''))})\n",
    "\n",
    "    return data[:number_of_days]\n"
   ]
  },
  {
   "cell_type": "code",
   "execution_count": 31,
   "metadata": {},
   "outputs": [
    {
     "name": "stderr",
     "output_type": "stream",
     "text": [
      "/Applications/anaconda/lib/python3.6/site-packages/bs4/__init__.py:181: UserWarning: No parser was explicitly specified, so I'm using the best available HTML parser for this system (\"lxml\"). This usually isn't a problem, but if you run this code on another system, or in a different virtual environment, it may use a different parser and behave differently.\n",
      "\n",
      "The code that caused this warning is on line 193 of the file /Applications/anaconda/lib/python3.6/runpy.py. To get rid of this warning, change code that looks like this:\n",
      "\n",
      " BeautifulSoup(YOUR_MARKUP})\n",
      "\n",
      "to this:\n",
      "\n",
      " BeautifulSoup(YOUR_MARKUP, \"lxml\")\n",
      "\n",
      "  markup_type=markup_type))\n"
     ]
    },
    {
     "data": {
      "text/plain": [
       "[{'Close': 172.43, 'Date': 'Feb 16, 2018', 'Open': 172.36},\n",
       " {'Close': 172.99, 'Date': 'Feb 15, 2018', 'Open': 169.79},\n",
       " {'Close': 167.37, 'Date': 'Feb 14, 2018', 'Open': 163.04},\n",
       " {'Close': 164.34, 'Date': 'Feb 13, 2018', 'Open': 161.95},\n",
       " {'Close': 162.71, 'Date': 'Feb 12, 2018', 'Open': 158.5},\n",
       " {'Close': 156.41, 'Date': 'Feb 09, 2018', 'Open': 157.07},\n",
       " {'Close': 155.15, 'Date': 'Feb 08, 2018', 'Open': 160.29},\n",
       " {'Close': 159.54, 'Date': 'Feb 07, 2018', 'Open': 163.09},\n",
       " {'Close': 163.03, 'Date': 'Feb 06, 2018', 'Open': 154.83},\n",
       " {'Close': 156.49, 'Date': 'Feb 05, 2018', 'Open': 159.1},\n",
       " {'Close': 160.5, 'Date': 'Feb 02, 2018', 'Open': 166.0},\n",
       " {'Close': 167.78, 'Date': 'Feb 01, 2018', 'Open': 167.17},\n",
       " {'Close': 167.43, 'Date': 'Jan 31, 2018', 'Open': 166.87},\n",
       " {'Close': 166.97, 'Date': 'Jan 30, 2018', 'Open': 165.53},\n",
       " {'Close': 167.96, 'Date': 'Jan 29, 2018', 'Open': 170.16},\n",
       " {'Close': 171.51, 'Date': 'Jan 26, 2018', 'Open': 172.0},\n",
       " {'Close': 171.11, 'Date': 'Jan 25, 2018', 'Open': 174.51},\n",
       " {'Close': 174.22, 'Date': 'Jan 24, 2018', 'Open': 177.25},\n",
       " {'Close': 177.04, 'Date': 'Jan 23, 2018', 'Open': 177.3},\n",
       " {'Close': 177.0, 'Date': 'Jan 22, 2018', 'Open': 177.3},\n",
       " {'Close': 178.46, 'Date': 'Jan 19, 2018', 'Open': 178.61},\n",
       " {'Close': 179.26, 'Date': 'Jan 18, 2018', 'Open': 179.37},\n",
       " {'Close': 179.1, 'Date': 'Jan 17, 2018', 'Open': 176.15},\n",
       " {'Close': 176.19, 'Date': 'Jan 16, 2018', 'Open': 177.9},\n",
       " {'Close': 177.09, 'Date': 'Jan 12, 2018', 'Open': 176.18},\n",
       " {'Close': 175.28, 'Date': 'Jan 11, 2018', 'Open': 174.59},\n",
       " {'Close': 174.29, 'Date': 'Jan 10, 2018', 'Open': 173.16},\n",
       " {'Close': 174.33, 'Date': 'Jan 09, 2018', 'Open': 174.55},\n",
       " {'Close': 174.35, 'Date': 'Jan 08, 2018', 'Open': 174.35},\n",
       " {'Close': 175.0, 'Date': 'Jan 05, 2018', 'Open': 173.44}]"
      ]
     },
     "execution_count": 31,
     "metadata": {},
     "output_type": "execute_result"
    }
   ],
   "source": [
    "get_historical_data('AAPL', 30)"
   ]
  },
  {
   "cell_type": "code",
   "execution_count": null,
   "metadata": {
    "collapsed": true
   },
   "outputs": [],
   "source": []
  }
 ],
 "metadata": {
  "kernelspec": {
   "display_name": "Python 3",
   "language": "python",
   "name": "python3"
  },
  "language_info": {
   "codemirror_mode": {
    "name": "ipython",
    "version": 3
   },
   "file_extension": ".py",
   "mimetype": "text/x-python",
   "name": "python",
   "nbconvert_exporter": "python",
   "pygments_lexer": "ipython3",
   "version": "3.6.1"
  }
 },
 "nbformat": 4,
 "nbformat_minor": 2
}
