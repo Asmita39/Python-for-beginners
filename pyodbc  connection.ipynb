{
 "cells": [
  {
   "cell_type": "code",
   "execution_count": null,
   "metadata": {
    "collapsed": true
   },
   "outputs": [],
   "source": [
    "import pyodbc\n",
    "Create a template connection string that can be re-used.\n",
    "In [3]:\n",
    "conn_str = ('SERVER={server},{port};'   +\n",
    "            'DATABASE={database};'      +\n",
    "            'UID={username};'           +\n",
    "            'PWD={password}')\n",
    "If you are using the Windows Authentication mode where existing authorization tokens are picked up automatically this connection string would be changed to remove UID and PWD entries and replace them with TRUSTED_CONNECTION, as below:\n",
    "In [4]:\n",
    "\n",
    "Check your configuration looks right:\n",
    "In [5]:\n",
    "\n",
    "Out[5]:\n",
    "{'database': 'AdventureWorksDW2012',\n",
    " 'password': 'Tanya1234',\n",
    " 'port': 1433,\n",
    " 'server': 'sqlserver.testnet.corp',\n",
    " 'username': 'tanya'}\n",
    "Now open a connection by specifying the driver and filling in the connection string with the connection parameters.\n",
    "The following connection operation can take 10s of seconds to complete.\n",
    "In [6]:\n",
    "conn = pyodbc.connect(\n",
    "    r'DRIVER={ODBC Driver 13 for SQL Server};' +\n",
    "    conn_str.format(**config)\n",
    "    )"
   ]
  },
  {
   "cell_type": "code",
   "execution_count": 1,
   "metadata": {
    "collapsed": true
   },
   "outputs": [],
   "source": [
    "import pyodbc"
   ]
  },
  {
   "cell_type": "code",
   "execution_count": null,
   "metadata": {
    "collapsed": true
   },
   "outputs": [],
   "source": [
    "config = dict(server=   'sqlserver.testnet.corp', # change this to your SQL Server hostname or IP address\n",
    "              port=      1433,                    # change this to your SQL Server port number [1433 is the default]\n",
    "              database= 'AdventureWorksDW2012',\n",
    "              username= 'tanya',\n",
    "              password= 'Tanya1234')"
   ]
  },
  {
   "cell_type": "code",
   "execution_count": null,
   "metadata": {
    "collapsed": true
   },
   "outputs": [],
   "source": [
    "trusted_conn_str = ('SERVER={server};'     +\n",
    "                    'DATABASE={database};' +\n",
    "                    'TRUSTED_CONNECTION=yes')"
   ]
  },
  {
   "cell_type": "code",
   "execution_count": null,
   "metadata": {
    "collapsed": true
   },
   "outputs": [],
   "source": [
    "config"
   ]
  }
 ],
 "metadata": {
  "kernelspec": {
   "display_name": "Python 3",
   "language": "python",
   "name": "python3"
  },
  "language_info": {
   "codemirror_mode": {
    "name": "ipython",
    "version": 3
   },
   "file_extension": ".py",
   "mimetype": "text/x-python",
   "name": "python",
   "nbconvert_exporter": "python",
   "pygments_lexer": "ipython3",
   "version": "3.6.1"
  }
 },
 "nbformat": 4,
 "nbformat_minor": 2
}
