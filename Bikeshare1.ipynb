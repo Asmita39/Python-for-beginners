{
 "cells": [
  {
   "cell_type": "code",
   "execution_count": 1,
   "metadata": {
    "collapsed": true
   },
   "outputs": [],
   "source": [
    "import pandas as pd"
   ]
  },
  {
   "cell_type": "code",
   "execution_count": 2,
   "metadata": {
    "collapsed": true
   },
   "outputs": [],
   "source": [
    "Q42014=pd.read_csv(\"/Users/Asmita/Downloads/2014-Q4-cabi-trip-history-data.csv\")"
   ]
  },
  {
   "cell_type": "code",
   "execution_count": 3,
   "metadata": {
    "collapsed": true
   },
   "outputs": [],
   "source": [
    "for index, duration in enumerate(Q42014.Duration) :\n",
    "    Q42014.Duration[index]=duration=int(duration.partition(\"h\")[0])*3600000+int(duration.partition('h')[-1].rpartition('m')[0])*60000+int(duration.partition('m')[-1].rpartition('s')[0])*1000;\n"
   ]
  },
  {
   "cell_type": "code",
   "execution_count": 4,
   "metadata": {},
   "outputs": [
    {
     "name": "stdout",
     "output_type": "stream",
     "text": [
      "0          635000\n",
      "1          290000\n",
      "2         4066000\n",
      "3          225000\n",
      "4         1202000\n",
      "5          354000\n",
      "6          810000\n",
      "7         1001000\n",
      "8          276000\n",
      "9          322000\n",
      "10         698000\n",
      "11         622000\n",
      "12         371000\n",
      "13        1099000\n",
      "14         498000\n",
      "15         972000\n",
      "16         803000\n",
      "17          10000\n",
      "18         551000\n",
      "19         228000\n",
      "20         279000\n",
      "21         593000\n",
      "22         644000\n",
      "23         330000\n",
      "24         483000\n",
      "25         545000\n",
      "26         302000\n",
      "27         580000\n",
      "28         174000\n",
      "29         368000\n",
      "           ...   \n",
      "653733     270000\n",
      "653734    1027000\n",
      "653735    1035000\n",
      "653736     482000\n",
      "653737     164000\n",
      "653738     508000\n",
      "653739    1302000\n",
      "653740     133000\n",
      "653741     403000\n",
      "653742     645000\n",
      "653743     586000\n",
      "653744     588000\n",
      "653745    1473000\n",
      "653746    1118000\n",
      "653747     289000\n",
      "653748     413000\n",
      "653749    4155000\n",
      "653750     642000\n",
      "653751     237000\n",
      "653752     271000\n",
      "653753     746000\n",
      "653754     244000\n",
      "653755     236000\n",
      "653756     702000\n",
      "653757     455000\n",
      "653758     572000\n",
      "653759     433000\n",
      "653760     557000\n",
      "653761    1922000\n",
      "653762     595000\n",
      "Name: Duration, Length: 653763, dtype: object\n"
     ]
    }
   ],
   "source": [
    "print(Q42014.Duration)"
   ]
  },
  {
   "cell_type": "code",
   "execution_count": 5,
   "metadata": {
    "collapsed": true
   },
   "outputs": [],
   "source": [
    "Q32014=pd.read_csv(\"/Users/Asmita/Downloads/2014-Q3-cabi-trip-history-data.csv\")"
   ]
  },
  {
   "cell_type": "code",
   "execution_count": 6,
   "metadata": {
    "collapsed": true
   },
   "outputs": [],
   "source": [
    "for index, duration in enumerate(Q32014.Duration) :\n",
    "    Q32014.Duration[index]=duration=int(duration.partition(\"h\")[0])*3600000+int(duration.partition('h')[-1].rpartition('m')[0])*60000+int(duration.partition('m')[-1].rpartition('s')[0])*1000;\n",
    "\n"
   ]
  },
  {
   "cell_type": "code",
   "execution_count": 7,
   "metadata": {},
   "outputs": [
    {
     "name": "stdout",
     "output_type": "stream",
     "text": [
      "0          356000\n",
      "1         1097000\n",
      "2            4000\n",
      "3          209000\n",
      "4          166000\n",
      "5          363000\n",
      "6          790000\n",
      "7         2018000\n",
      "8           12000\n",
      "9           12000\n",
      "10        2399000\n",
      "11         394000\n",
      "12         681000\n",
      "13        4572000\n",
      "14         379000\n",
      "15         256000\n",
      "16        4514000\n",
      "17         270000\n",
      "18        1672000\n",
      "19         959000\n",
      "20        1547000\n",
      "21        4225000\n",
      "22        6881000\n",
      "23        1510000\n",
      "24         588000\n",
      "25         681000\n",
      "26        6840000\n",
      "27         674000\n",
      "28         696000\n",
      "29        4179000\n",
      "           ...   \n",
      "982945     860000\n",
      "982946     221000\n",
      "982947    1791000\n",
      "982948     961000\n",
      "982949     235000\n",
      "982950     121000\n",
      "982951     671000\n",
      "982952    1248000\n",
      "982953     417000\n",
      "982954     510000\n",
      "982955    1137000\n",
      "982956     406000\n",
      "982957     707000\n",
      "982958     444000\n",
      "982959    1439000\n",
      "982960     538000\n",
      "982961    1635000\n",
      "982962     448000\n",
      "982963     772000\n",
      "982964    1093000\n",
      "982965     591000\n",
      "982966     606000\n",
      "982967     582000\n",
      "982968     486000\n",
      "982969     620000\n",
      "982970     514000\n",
      "982971     319000\n",
      "982972     364000\n",
      "982973     388000\n",
      "982974     392000\n",
      "Name: Duration, Length: 982975, dtype: object\n"
     ]
    }
   ],
   "source": [
    "print(Q32014.Duration)"
   ]
  },
  {
   "cell_type": "code",
   "execution_count": 8,
   "metadata": {
    "collapsed": true
   },
   "outputs": [],
   "source": [
    "Q22014=pd.read_csv(\"/Users/Asmita/Downloads/2014-Q2-cabi-trip-history-data.csv\")"
   ]
  },
  {
   "cell_type": "code",
   "execution_count": 9,
   "metadata": {
    "collapsed": true
   },
   "outputs": [],
   "source": [
    "for index, duration in enumerate(Q22014.Duration) :\n",
    "    Q22014.Duration[index]=duration=int(duration.partition(\"h\")[0])*3600000+int(duration.partition('h')[-1].rpartition('m')[0])*60000+int(duration.partition('m')[-1].rpartition('s')[0])*1000;\n",
    "\n",
    "\n"
   ]
  },
  {
   "cell_type": "code",
   "execution_count": 10,
   "metadata": {
    "collapsed": true
   },
   "outputs": [],
   "source": [
    "Q22014.to_csv('2014-Q2-cabi-trip-history-data.csv')"
   ]
  },
  {
   "cell_type": "code",
   "execution_count": 11,
   "metadata": {
    "collapsed": true
   },
   "outputs": [],
   "source": [
    "Q22014.to_csv(\"/Users/Asmita/Downloads/2014-Q2-cabi-trip-history-data.csv\")"
   ]
  },
  {
   "cell_type": "code",
   "execution_count": 12,
   "metadata": {},
   "outputs": [
    {
     "name": "stdout",
     "output_type": "stream",
     "text": [
      "0          356000\n",
      "1         1097000\n",
      "2            4000\n",
      "3          209000\n",
      "4          166000\n",
      "5          363000\n",
      "6          790000\n",
      "7         2018000\n",
      "8           12000\n",
      "9           12000\n",
      "10        2399000\n",
      "11         394000\n",
      "12         681000\n",
      "13        4572000\n",
      "14         379000\n",
      "15         256000\n",
      "16        4514000\n",
      "17         270000\n",
      "18        1672000\n",
      "19         959000\n",
      "20        1547000\n",
      "21        4225000\n",
      "22        6881000\n",
      "23        1510000\n",
      "24         588000\n",
      "25         681000\n",
      "26        6840000\n",
      "27         674000\n",
      "28         696000\n",
      "29        4179000\n",
      "           ...   \n",
      "982945     860000\n",
      "982946     221000\n",
      "982947    1791000\n",
      "982948     961000\n",
      "982949     235000\n",
      "982950     121000\n",
      "982951     671000\n",
      "982952    1248000\n",
      "982953     417000\n",
      "982954     510000\n",
      "982955    1137000\n",
      "982956     406000\n",
      "982957     707000\n",
      "982958     444000\n",
      "982959    1439000\n",
      "982960     538000\n",
      "982961    1635000\n",
      "982962     448000\n",
      "982963     772000\n",
      "982964    1093000\n",
      "982965     591000\n",
      "982966     606000\n",
      "982967     582000\n",
      "982968     486000\n",
      "982969     620000\n",
      "982970     514000\n",
      "982971     319000\n",
      "982972     364000\n",
      "982973     388000\n",
      "982974     392000\n",
      "Name: Duration, Length: 982975, dtype: object\n"
     ]
    }
   ],
   "source": [
    "print(Q32014.Duration)"
   ]
  },
  {
   "cell_type": "code",
   "execution_count": 13,
   "metadata": {
    "collapsed": true
   },
   "outputs": [],
   "source": [
    "Q32014.to_csv(\"/Users/Asmita/Downloads/2014-Q3-cabi-trip-history-data.csv\")"
   ]
  },
  {
   "cell_type": "code",
   "execution_count": 14,
   "metadata": {
    "collapsed": true
   },
   "outputs": [],
   "source": [
    "Q42014.to_csv(\"/Users/Asmita/Downloads/2014-Q4-cabi-trip-history-data.csv\")"
   ]
  },
  {
   "cell_type": "code",
   "execution_count": 16,
   "metadata": {},
   "outputs": [],
   "source": [
    "Q12014=pd.read_csv(\"/Users/Asmita/Downloads/2014-Q1-cabi-trip-history-data.csv\")"
   ]
  },
  {
   "cell_type": "code",
   "execution_count": 17,
   "metadata": {
    "collapsed": true
   },
   "outputs": [],
   "source": [
    "for index, duration in enumerate(Q12014.Duration) :\n",
    "    Q12014.Duration[index]=duration=int(duration.partition(\"h\")[0])*3600000+int(duration.partition('h')[-1].rpartition('m')[0])*60000+int(duration.partition('m')[-1].rpartition('s')[0])*1000;\n",
    "\n",
    "\n"
   ]
  },
  {
   "cell_type": "code",
   "execution_count": 18,
   "metadata": {
    "collapsed": true
   },
   "outputs": [],
   "source": [
    "Q12014.to_csv(\"/Users/Asmita/Downloads/2014-Q1-cabi-trip-history-data.csv\")"
   ]
  },
  {
   "cell_type": "code",
   "execution_count": 19,
   "metadata": {
    "collapsed": true
   },
   "outputs": [],
   "source": [
    "Q42013=pd.read_csv(\"/Users/Asmita/Downloads/2013-Q4-cabi-trip-history-data.csv\")"
   ]
  },
  {
   "cell_type": "code",
   "execution_count": 20,
   "metadata": {
    "collapsed": true
   },
   "outputs": [],
   "source": [
    "for index, duration in enumerate(Q42013.Duration) :\n",
    "    Q42013.Duration[index]=duration=int(duration.partition(\"h\")[0])*3600000+int(duration.partition('h')[-1].rpartition('m')[0])*60000+int(duration.partition('m')[-1].rpartition('s')[0])*1000;\n",
    "\n",
    "\n",
    "\n"
   ]
  },
  {
   "cell_type": "code",
   "execution_count": 21,
   "metadata": {
    "collapsed": true
   },
   "outputs": [],
   "source": [
    "Q42013.to_csv(\"/Users/Asmita/Downloads/2013-Q4-cabi-trip-history-data.csv\")"
   ]
  },
  {
   "cell_type": "code",
   "execution_count": 22,
   "metadata": {
    "collapsed": true
   },
   "outputs": [],
   "source": [
    "Q32013=pd.read_csv(\"/Users/Asmita/Downloads/2013-Q3-cabi-trip-history-data.csv\")"
   ]
  },
  {
   "cell_type": "code",
   "execution_count": 23,
   "metadata": {
    "collapsed": true
   },
   "outputs": [],
   "source": [
    "for index, duration in enumerate(Q32013.Duration) :\n",
    "    Q32013.Duration[index]=duration=int(duration.partition(\"h\")[0])*3600000+int(duration.partition('h')[-1].rpartition('m')[0])*60000+int(duration.partition('m')[-1].rpartition('s')[0])*1000;\n",
    "\n",
    "\n",
    "\n",
    "\n"
   ]
  },
  {
   "cell_type": "code",
   "execution_count": 24,
   "metadata": {
    "collapsed": true
   },
   "outputs": [],
   "source": [
    "Q32013.to_csv(\"/Users/Asmita/Downloads/2013-Q3-cabi-trip-history-data.csv\")"
   ]
  },
  {
   "cell_type": "code",
   "execution_count": 26,
   "metadata": {},
   "outputs": [
    {
     "name": "stdout",
     "output_type": "stream",
     "text": [
      "0           553000\n",
      "1          1120000\n",
      "2           617000\n",
      "3           551000\n",
      "4          1448000\n",
      "5          1411000\n",
      "6           444000\n",
      "7           871000\n",
      "8           381000\n",
      "9           354000\n",
      "10        10532000\n",
      "11          981000\n",
      "12          489000\n",
      "13          461000\n",
      "14          564000\n",
      "15         1822000\n",
      "16          332000\n",
      "17          254000\n",
      "18         1702000\n",
      "19          306000\n",
      "20           15000\n",
      "21          129000\n",
      "22          446000\n",
      "23          501000\n",
      "24           89000\n",
      "25          454000\n",
      "26          767000\n",
      "27          871000\n",
      "28          532000\n",
      "29          208000\n",
      "            ...   \n",
      "848159      566000\n",
      "848160      123000\n",
      "848161      489000\n",
      "848162       29000\n",
      "848163     1022000\n",
      "848164      757000\n",
      "848165      316000\n",
      "848166      915000\n",
      "848167      282000\n",
      "848168      409000\n",
      "848169     1328000\n",
      "848170     1262000\n",
      "848171      488000\n",
      "848172      169000\n",
      "848173      150000\n",
      "848174     1336000\n",
      "848175      334000\n",
      "848176      994000\n",
      "848177      759000\n",
      "848178      457000\n",
      "848179      241000\n",
      "848180      306000\n",
      "848181     1773000\n",
      "848182      193000\n",
      "848183      457000\n",
      "848184      580000\n",
      "848185      576000\n",
      "848186     1242000\n",
      "848187      465000\n",
      "848188      108000\n",
      "Name: Duration, Length: 848189, dtype: object\n"
     ]
    }
   ],
   "source": [
    "print(Q32013.Duration)"
   ]
  },
  {
   "cell_type": "code",
   "execution_count": 28,
   "metadata": {},
   "outputs": [],
   "source": [
    "Q22013=pd.read_csv(\"/Users/Asmita/Downloads/2013-Q2-cabi-trip-history-data.csv\")"
   ]
  },
  {
   "cell_type": "code",
   "execution_count": 29,
   "metadata": {
    "collapsed": true
   },
   "outputs": [],
   "source": [
    "for index, duration in enumerate(Q22013.Duration) :\n",
    "    Q22013.Duration[index]=duration=int(duration.partition(\"h\")[0])*3600000+int(duration.partition('h')[-1].rpartition('m')[0])*60000+int(duration.partition('m')[-1].rpartition('s')[0])*1000;\n",
    "\n",
    "\n",
    "\n",
    "\n",
    "\n"
   ]
  },
  {
   "cell_type": "code",
   "execution_count": 30,
   "metadata": {
    "collapsed": true
   },
   "outputs": [],
   "source": [
    "Q22013.to_csv(\"/Users/Asmita/Downloads/2013-Q2-cabi-trip-history-data.csv\")"
   ]
  },
  {
   "cell_type": "code",
   "execution_count": 31,
   "metadata": {
    "collapsed": true
   },
   "outputs": [],
   "source": [
    "Q12013=pd.read_csv(\"/Users/Asmita/Downloads/2013-Q1-cabi-trip-history-data.csv\")"
   ]
  },
  {
   "cell_type": "code",
   "execution_count": 32,
   "metadata": {
    "collapsed": true
   },
   "outputs": [],
   "source": [
    "for index, duration in enumerate(Q12013.Duration) :\n",
    "    Q12013.Duration[index]=duration=int(duration.partition(\"h\")[0])*3600000+int(duration.partition('h')[-1].rpartition('m')[0])*60000+int(duration.partition('m')[-1].rpartition('s')[0])*1000;\n",
    "\n",
    "\n",
    "\n",
    "\n",
    "\n",
    "\n"
   ]
  },
  {
   "cell_type": "code",
   "execution_count": 33,
   "metadata": {
    "collapsed": true
   },
   "outputs": [],
   "source": [
    "Q12013.to_csv(\"/Users/Asmita/Downloads/2013-Q1-cabi-trip-history-data.csv\")"
   ]
  },
  {
   "cell_type": "code",
   "execution_count": 34,
   "metadata": {
    "collapsed": true
   },
   "outputs": [],
   "source": [
    "Q42012=pd.read_csv(\"/Users/Asmita/Downloads/2012-Q4-cabi-trip-history-data.csv\")"
   ]
  },
  {
   "cell_type": "code",
   "execution_count": 35,
   "metadata": {
    "collapsed": true
   },
   "outputs": [],
   "source": [
    "for index, duration in enumerate(Q42012.Duration) :\n",
    "    Q42012.Duration[index]=duration=int(duration.partition(\"h\")[0])*3600000+int(duration.partition('h')[-1].rpartition('m')[0])*60000+int(duration.partition('m')[-1].rpartition('s')[0])*1000;\n",
    "\n",
    "\n",
    "\n",
    "\n",
    "\n",
    "\n",
    "\n"
   ]
  },
  {
   "cell_type": "code",
   "execution_count": 36,
   "metadata": {
    "collapsed": true
   },
   "outputs": [],
   "source": [
    "Q42012.to_csv(\"/Users/Asmita/Downloads/2012-Q4-cabi-trip-history-data.csv\")"
   ]
  },
  {
   "cell_type": "code",
   "execution_count": 37,
   "metadata": {
    "collapsed": true
   },
   "outputs": [],
   "source": [
    "Q32012=pd.read_csv(\"/Users/Asmita/Downloads/2012-Q3-cabi-trip-history-data.csv\")"
   ]
  },
  {
   "cell_type": "code",
   "execution_count": 38,
   "metadata": {
    "collapsed": true
   },
   "outputs": [],
   "source": [
    "for index, duration in enumerate(Q32012.Duration) :\n",
    "    Q32012.Duration[index]=duration=int(duration.partition(\"h\")[0])*3600000+int(duration.partition('h')[-1].rpartition('m')[0])*60000+int(duration.partition('m')[-1].rpartition('s')[0])*1000;\n",
    "\n",
    "\n",
    "\n",
    "\n",
    "\n",
    "\n",
    "\n",
    "\n"
   ]
  },
  {
   "cell_type": "code",
   "execution_count": null,
   "metadata": {
    "collapsed": true
   },
   "outputs": [],
   "source": []
  }
 ],
 "metadata": {
  "kernelspec": {
   "display_name": "Python 3",
   "language": "python",
   "name": "python3"
  },
  "language_info": {
   "codemirror_mode": {
    "name": "ipython",
    "version": 3
   },
   "file_extension": ".py",
   "mimetype": "text/x-python",
   "name": "python",
   "nbconvert_exporter": "python",
   "pygments_lexer": "ipython3",
   "version": "3.6.1"
  }
 },
 "nbformat": 4,
 "nbformat_minor": 2
}
