{
 "cells": [
  {
   "cell_type": "code",
   "execution_count": 7,
   "metadata": {},
   "outputs": [
    {
     "name": "stdout",
     "output_type": "stream",
     "text": [
      "Fetching data for station ID: KDCA\n"
     ]
    },
    {
     "ename": "TypeError",
     "evalue": "remove: path should be string, bytes or os.PathLike, not _io.BufferedWriter",
     "output_type": "error",
     "traceback": [
      "\u001b[0;31m---------------------------------------------------------------------------\u001b[0m",
      "\u001b[0;31mTypeError\u001b[0m                                 Traceback (most recent call last)",
      "\u001b[0;32m<ipython-input-7-bda0fd4a32e4>\u001b[0m in \u001b[0;36m<module>\u001b[0;34m()\u001b[0m\n\u001b[1;32m     18\u001b[0m             \u001b[0mwriter\u001b[0m \u001b[0;34m=\u001b[0m \u001b[0mcsv\u001b[0m\u001b[0;34m.\u001b[0m\u001b[0mwriter\u001b[0m\u001b[0;34m(\u001b[0m\u001b[0moutfile\u001b[0m\u001b[0;34m)\u001b[0m\u001b[0;34m\u001b[0m\u001b[0m\n\u001b[0;32m---> 19\u001b[0;31m             \u001b[0mheaders\u001b[0m \u001b[0;34m=\u001b[0m \u001b[0marray\u001b[0m\u001b[0;34m.\u001b[0m\u001b[0marray\u001b[0m\u001b[0;34m(\u001b[0m\u001b[0;34m'B'\u001b[0m\u001b[0;34m,\u001b[0m\u001b[0;34m[\u001b[0m\u001b[0;34m'date'\u001b[0m \u001b[0;34m,\u001b[0m\u001b[0;34m'temperature'\u001b[0m \u001b[0;34m,\u001b[0m\u001b[0;34m'wind speed'\u001b[0m\u001b[0;34m]\u001b[0m\u001b[0;34m)\u001b[0m \u001b[0;31m# edit these as required\u001b[0m\u001b[0;34m\u001b[0m\u001b[0m\n\u001b[0m\u001b[1;32m     20\u001b[0m             \u001b[0mwriter\u001b[0m\u001b[0;34m.\u001b[0m\u001b[0mwriterow\u001b[0m\u001b[0;34m(\u001b[0m\u001b[0mheaders\u001b[0m\u001b[0;34m)\u001b[0m\u001b[0;34m\u001b[0m\u001b[0m\n",
      "\u001b[0;31mTypeError\u001b[0m: an integer is required (got type str)",
      "\nDuring handling of the above exception, another exception occurred:\n",
      "\u001b[0;31mTypeError\u001b[0m                                 Traceback (most recent call last)",
      "\u001b[0;32m<ipython-input-7-bda0fd4a32e4>\u001b[0m in \u001b[0;36m<module>\u001b[0;34m()\u001b[0m\n\u001b[1;32m     44\u001b[0m     \u001b[0;32mexcept\u001b[0m \u001b[0mException\u001b[0m\u001b[0;34m:\u001b[0m\u001b[0;34m\u001b[0m\u001b[0m\n\u001b[1;32m     45\u001b[0m         \u001b[0;31m# tidy up\u001b[0m\u001b[0;34m\u001b[0m\u001b[0;34m\u001b[0m\u001b[0m\n\u001b[0;32m---> 46\u001b[0;31m         \u001b[0mos\u001b[0m\u001b[0;34m.\u001b[0m\u001b[0mremove\u001b[0m\u001b[0;34m(\u001b[0m\u001b[0moutfile\u001b[0m\u001b[0;34m)\u001b[0m\u001b[0;34m\u001b[0m\u001b[0m\n\u001b[0m\u001b[1;32m     47\u001b[0m \u001b[0;34m\u001b[0m\u001b[0m\n\u001b[1;32m     48\u001b[0m \u001b[0mprint\u001b[0m \u001b[0;34m(\u001b[0m\u001b[0;34m\"Done!\"\u001b[0m\u001b[0;34m)\u001b[0m\u001b[0;34m\u001b[0m\u001b[0m\n",
      "\u001b[0;31mTypeError\u001b[0m: remove: path should be string, bytes or os.PathLike, not _io.BufferedWriter"
     ]
    }
   ],
   "source": [
    "import csv\n",
    "import datetime\n",
    "import os\n",
    "import array\n",
    "import requests # this library makes html requests much simpler\n",
    "\n",
    "\n",
    "# add your API key (from wunderground) here\n",
    "api_key = \"a8bd76ad7a840a3e\"\n",
    "station_ids = [\"KDCA\", ] # add more stations here if required\n",
    "\n",
    "\n",
    "for station_id in station_ids:\n",
    "    print (\"Fetching data for station ID: %s\" % station_id)\n",
    "    try:\n",
    "        # initialise your csv file\n",
    "        with open('%s.csv' % station_id, 'wb') as outfile:\n",
    "            writer = csv.writer(outfile)\n",
    "            headers = array.array('B',['date' ,'temperature' ,'wind speed']) # edit these as required\n",
    "            writer.writerow(headers)\n",
    "\n",
    "            # enter the first and last day required here\n",
    "            start_date = datetime.date(2010 ,9 ,15)\n",
    "            end_date = datetime.date(2017 ,3 ,31)\n",
    "\n",
    "            date = start_date\n",
    "            while date <= end_date:\n",
    "                # format the date as YYYYMMDD\n",
    "                date_string = date.strftime('%Y%m%d')\n",
    "                # build the url\n",
    "                url = (\"http://api.wunderground.com/api/%s/history_%s/q/%s.json\" %\n",
    "                       (api_key, date_string, station_id))\n",
    "                # make the request and parse json\n",
    "                data = requests.get(url).json()\n",
    "                # build your row\n",
    "                for history in data['history']['observations']:\n",
    "                    row = []\n",
    "                    row.append(str(history['date']['pretty']))\n",
    "                    row.append(str(history['tempm']))\n",
    "                    row.append(str(history['wspdm']))\n",
    "                    writer.writerow(row)\n",
    "                # increment the day by one\n",
    "                date += datetime.timedelta(days=1)\n",
    "    except Exception:\n",
    "        # tidy up\n",
    "        os.remove(outfile)\n",
    "\n",
    "print (\"Done!\")"
   ]
  },
  {
   "cell_type": "code",
   "execution_count": null,
   "metadata": {
    "collapsed": true
   },
   "outputs": [],
   "source": []
  }
 ],
 "metadata": {
  "kernelspec": {
   "display_name": "Python 3",
   "language": "python",
   "name": "python3"
  },
  "language_info": {
   "codemirror_mode": {
    "name": "ipython",
    "version": 3
   },
   "file_extension": ".py",
   "mimetype": "text/x-python",
   "name": "python",
   "nbconvert_exporter": "python",
   "pygments_lexer": "ipython3",
   "version": "3.6.1"
  }
 },
 "nbformat": 4,
 "nbformat_minor": 2
}
